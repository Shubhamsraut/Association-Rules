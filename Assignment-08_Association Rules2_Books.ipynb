{
 "cells": [
  {
   "cell_type": "markdown",
   "id": "3c42c50f",
   "metadata": {},
   "source": [
    "# Association Rules"
   ]
  },
  {
   "cell_type": "markdown",
   "id": "7156fcd2",
   "metadata": {},
   "source": [
    "### 1. Import Libraries"
   ]
  },
  {
   "cell_type": "code",
   "execution_count": 1,
   "id": "d528ab45",
   "metadata": {},
   "outputs": [],
   "source": [
    "import pandas as pd\n",
    "from mlxtend.frequent_patterns import apriori, association_rules\n",
    "from mlxtend.preprocessing import TransactionEncoder"
   ]
  },
  {
   "cell_type": "code",
   "execution_count": 12,
   "id": "b842f89e",
   "metadata": {},
   "outputs": [
    {
     "data": {
      "text/html": [
       "<div>\n",
       "<style scoped>\n",
       "    .dataframe tbody tr th:only-of-type {\n",
       "        vertical-align: middle;\n",
       "    }\n",
       "\n",
       "    .dataframe tbody tr th {\n",
       "        vertical-align: top;\n",
       "    }\n",
       "\n",
       "    .dataframe thead th {\n",
       "        text-align: right;\n",
       "    }\n",
       "</style>\n",
       "<table border=\"1\" class=\"dataframe\">\n",
       "  <thead>\n",
       "    <tr style=\"text-align: right;\">\n",
       "      <th></th>\n",
       "      <th>ChildBks</th>\n",
       "      <th>YouthBks</th>\n",
       "      <th>CookBks</th>\n",
       "      <th>DoItYBks</th>\n",
       "      <th>RefBks</th>\n",
       "      <th>ArtBks</th>\n",
       "      <th>GeogBks</th>\n",
       "      <th>ItalCook</th>\n",
       "      <th>ItalAtlas</th>\n",
       "      <th>ItalArt</th>\n",
       "      <th>Florence</th>\n",
       "    </tr>\n",
       "  </thead>\n",
       "  <tbody>\n",
       "    <tr>\n",
       "      <th>0</th>\n",
       "      <td>0</td>\n",
       "      <td>1</td>\n",
       "      <td>0</td>\n",
       "      <td>1</td>\n",
       "      <td>0</td>\n",
       "      <td>0</td>\n",
       "      <td>1</td>\n",
       "      <td>0</td>\n",
       "      <td>0</td>\n",
       "      <td>0</td>\n",
       "      <td>0</td>\n",
       "    </tr>\n",
       "    <tr>\n",
       "      <th>1</th>\n",
       "      <td>1</td>\n",
       "      <td>0</td>\n",
       "      <td>0</td>\n",
       "      <td>0</td>\n",
       "      <td>0</td>\n",
       "      <td>0</td>\n",
       "      <td>0</td>\n",
       "      <td>0</td>\n",
       "      <td>0</td>\n",
       "      <td>0</td>\n",
       "      <td>0</td>\n",
       "    </tr>\n",
       "    <tr>\n",
       "      <th>2</th>\n",
       "      <td>0</td>\n",
       "      <td>0</td>\n",
       "      <td>0</td>\n",
       "      <td>0</td>\n",
       "      <td>0</td>\n",
       "      <td>0</td>\n",
       "      <td>0</td>\n",
       "      <td>0</td>\n",
       "      <td>0</td>\n",
       "      <td>0</td>\n",
       "      <td>0</td>\n",
       "    </tr>\n",
       "    <tr>\n",
       "      <th>3</th>\n",
       "      <td>1</td>\n",
       "      <td>1</td>\n",
       "      <td>1</td>\n",
       "      <td>0</td>\n",
       "      <td>1</td>\n",
       "      <td>0</td>\n",
       "      <td>1</td>\n",
       "      <td>0</td>\n",
       "      <td>0</td>\n",
       "      <td>0</td>\n",
       "      <td>0</td>\n",
       "    </tr>\n",
       "    <tr>\n",
       "      <th>4</th>\n",
       "      <td>0</td>\n",
       "      <td>0</td>\n",
       "      <td>1</td>\n",
       "      <td>0</td>\n",
       "      <td>0</td>\n",
       "      <td>0</td>\n",
       "      <td>1</td>\n",
       "      <td>0</td>\n",
       "      <td>0</td>\n",
       "      <td>0</td>\n",
       "      <td>0</td>\n",
       "    </tr>\n",
       "    <tr>\n",
       "      <th>...</th>\n",
       "      <td>...</td>\n",
       "      <td>...</td>\n",
       "      <td>...</td>\n",
       "      <td>...</td>\n",
       "      <td>...</td>\n",
       "      <td>...</td>\n",
       "      <td>...</td>\n",
       "      <td>...</td>\n",
       "      <td>...</td>\n",
       "      <td>...</td>\n",
       "      <td>...</td>\n",
       "    </tr>\n",
       "    <tr>\n",
       "      <th>1995</th>\n",
       "      <td>0</td>\n",
       "      <td>0</td>\n",
       "      <td>1</td>\n",
       "      <td>0</td>\n",
       "      <td>0</td>\n",
       "      <td>1</td>\n",
       "      <td>1</td>\n",
       "      <td>1</td>\n",
       "      <td>0</td>\n",
       "      <td>1</td>\n",
       "      <td>1</td>\n",
       "    </tr>\n",
       "    <tr>\n",
       "      <th>1996</th>\n",
       "      <td>0</td>\n",
       "      <td>0</td>\n",
       "      <td>0</td>\n",
       "      <td>0</td>\n",
       "      <td>0</td>\n",
       "      <td>0</td>\n",
       "      <td>0</td>\n",
       "      <td>0</td>\n",
       "      <td>0</td>\n",
       "      <td>0</td>\n",
       "      <td>0</td>\n",
       "    </tr>\n",
       "    <tr>\n",
       "      <th>1997</th>\n",
       "      <td>0</td>\n",
       "      <td>0</td>\n",
       "      <td>0</td>\n",
       "      <td>0</td>\n",
       "      <td>0</td>\n",
       "      <td>0</td>\n",
       "      <td>0</td>\n",
       "      <td>0</td>\n",
       "      <td>0</td>\n",
       "      <td>0</td>\n",
       "      <td>0</td>\n",
       "    </tr>\n",
       "    <tr>\n",
       "      <th>1998</th>\n",
       "      <td>0</td>\n",
       "      <td>0</td>\n",
       "      <td>1</td>\n",
       "      <td>0</td>\n",
       "      <td>0</td>\n",
       "      <td>0</td>\n",
       "      <td>0</td>\n",
       "      <td>0</td>\n",
       "      <td>0</td>\n",
       "      <td>0</td>\n",
       "      <td>0</td>\n",
       "    </tr>\n",
       "    <tr>\n",
       "      <th>1999</th>\n",
       "      <td>0</td>\n",
       "      <td>0</td>\n",
       "      <td>0</td>\n",
       "      <td>0</td>\n",
       "      <td>0</td>\n",
       "      <td>0</td>\n",
       "      <td>0</td>\n",
       "      <td>0</td>\n",
       "      <td>0</td>\n",
       "      <td>0</td>\n",
       "      <td>0</td>\n",
       "    </tr>\n",
       "  </tbody>\n",
       "</table>\n",
       "<p>2000 rows × 11 columns</p>\n",
       "</div>"
      ],
      "text/plain": [
       "      ChildBks  YouthBks  CookBks  DoItYBks  RefBks  ArtBks  GeogBks  \\\n",
       "0            0         1        0         1       0       0        1   \n",
       "1            1         0        0         0       0       0        0   \n",
       "2            0         0        0         0       0       0        0   \n",
       "3            1         1        1         0       1       0        1   \n",
       "4            0         0        1         0       0       0        1   \n",
       "...        ...       ...      ...       ...     ...     ...      ...   \n",
       "1995         0         0        1         0       0       1        1   \n",
       "1996         0         0        0         0       0       0        0   \n",
       "1997         0         0        0         0       0       0        0   \n",
       "1998         0         0        1         0       0       0        0   \n",
       "1999         0         0        0         0       0       0        0   \n",
       "\n",
       "      ItalCook  ItalAtlas  ItalArt  Florence  \n",
       "0            0          0        0         0  \n",
       "1            0          0        0         0  \n",
       "2            0          0        0         0  \n",
       "3            0          0        0         0  \n",
       "4            0          0        0         0  \n",
       "...        ...        ...      ...       ...  \n",
       "1995         1          0        1         1  \n",
       "1996         0          0        0         0  \n",
       "1997         0          0        0         0  \n",
       "1998         0          0        0         0  \n",
       "1999         0          0        0         0  \n",
       "\n",
       "[2000 rows x 11 columns]"
      ]
     },
     "execution_count": 12,
     "metadata": {},
     "output_type": "execute_result"
    }
   ],
   "source": [
    "books = pd.read_csv(\"book_AR.csv\")\n",
    "books"
   ]
  },
  {
   "cell_type": "markdown",
   "id": "af5a5cb9",
   "metadata": {},
   "source": [
    "### 2. EDA"
   ]
  },
  {
   "cell_type": "code",
   "execution_count": 6,
   "id": "b4e9b0c1",
   "metadata": {},
   "outputs": [
    {
     "data": {
      "text/plain": [
       "(2000, 11)"
      ]
     },
     "execution_count": 6,
     "metadata": {},
     "output_type": "execute_result"
    }
   ],
   "source": [
    "books.shape"
   ]
  },
  {
   "cell_type": "code",
   "execution_count": 7,
   "id": "cf992ae3",
   "metadata": {},
   "outputs": [
    {
     "data": {
      "text/plain": [
       "2000"
      ]
     },
     "execution_count": 7,
     "metadata": {},
     "output_type": "execute_result"
    }
   ],
   "source": [
    "length1 = len (books)\n",
    "length1"
   ]
  },
  {
   "cell_type": "code",
   "execution_count": 8,
   "id": "00dcdd13",
   "metadata": {},
   "outputs": [
    {
     "name": "stdout",
     "output_type": "stream",
     "text": [
      "<class 'pandas.core.frame.DataFrame'>\n",
      "RangeIndex: 2000 entries, 0 to 1999\n",
      "Data columns (total 11 columns):\n",
      " #   Column     Non-Null Count  Dtype\n",
      "---  ------     --------------  -----\n",
      " 0   ChildBks   2000 non-null   int64\n",
      " 1   YouthBks   2000 non-null   int64\n",
      " 2   CookBks    2000 non-null   int64\n",
      " 3   DoItYBks   2000 non-null   int64\n",
      " 4   RefBks     2000 non-null   int64\n",
      " 5   ArtBks     2000 non-null   int64\n",
      " 6   GeogBks    2000 non-null   int64\n",
      " 7   ItalCook   2000 non-null   int64\n",
      " 8   ItalAtlas  2000 non-null   int64\n",
      " 9   ItalArt    2000 non-null   int64\n",
      " 10  Florence   2000 non-null   int64\n",
      "dtypes: int64(11)\n",
      "memory usage: 172.0 KB\n"
     ]
    }
   ],
   "source": [
    "books.info()"
   ]
  },
  {
   "cell_type": "code",
   "execution_count": null,
   "id": "2bcff7cd",
   "metadata": {},
   "outputs": [],
   "source": []
  },
  {
   "cell_type": "markdown",
   "id": "bb1b278f",
   "metadata": {},
   "source": [
    "### 2. Apriori Algorithm"
   ]
  },
  {
   "cell_type": "markdown",
   "id": "dd8815a0",
   "metadata": {},
   "source": [
    "a) with 10% support and 70% confidence"
   ]
  },
  {
   "cell_type": "markdown",
   "id": "e2a1ec43",
   "metadata": {},
   "source": [
    "b) with 7% support and 85% confidence"
   ]
  },
  {
   "cell_type": "markdown",
   "id": "2d03444f",
   "metadata": {},
   "source": [
    "c) with 5% support and 90% confidence"
   ]
  },
  {
   "cell_type": "markdown",
   "id": "417eace2",
   "metadata": {},
   "source": [
    "#### a) with 10% support and 70% confidence:"
   ]
  },
  {
   "cell_type": "code",
   "execution_count": null,
   "id": "77cdac07",
   "metadata": {},
   "outputs": [],
   "source": [
    "# Association rule with --> 10% support\n",
    "frequently_read = apriori(books, min_support = 0.1, use_colnames = True)\n",
    "frequently_read"
   ]
  },
  {
   "cell_type": "code",
   "execution_count": null,
   "id": "d5711bbb",
   "metadata": {},
   "outputs": [],
   "source": [
    "# Association rule with --> 70% confidence\n",
    "rules1 =  association_rules(frequently_read, metric = \"lift\", min_threshold = 0.7)\n",
    "rules1"
   ]
  },
  {
   "cell_type": "markdown",
   "id": "be32d9f2",
   "metadata": {},
   "source": [
    "#### An leverage value of 0 indicates independence. Range will be [-1,1]\n",
    "A high conviction value means that the consequent is highly depending on the antecedent and range [0 inf]"
   ]
  },
  {
   "cell_type": "code",
   "execution_count": null,
   "id": "4d3bbbb6",
   "metadata": {
    "scrolled": true
   },
   "outputs": [],
   "source": [
    "rules1.sort_values('lift',ascending = False) [0:20]"
   ]
  },
  {
   "cell_type": "code",
   "execution_count": null,
   "id": "cff72f9a",
   "metadata": {},
   "outputs": [],
   "source": [
    " # Lift ratio > 1 -->  good to select the movies \n",
    "rules1[rules1.lift>1]"
   ]
  },
  {
   "cell_type": "code",
   "execution_count": null,
   "id": "691203c9",
   "metadata": {},
   "outputs": [],
   "source": [
    "# visualization of obtained rule by bar plot\n",
    "import matplotlib.pyplot as plt\n",
    "rules1.plot(kind='bar',x='support',y='confidence',color='blue')\n",
    "plt.xlabel('support')\n",
    "plt.ylabel('confidence')\n",
    "plt.title('barplot')"
   ]
  },
  {
   "cell_type": "code",
   "execution_count": null,
   "id": "d9d69c0b",
   "metadata": {},
   "outputs": [],
   "source": [
    "# Visualization of obtained rule\n",
    "\n",
    "plt.scatter(rules1['support'],rules1['confidence'])\n",
    "plt.xlabel('support')\n",
    "plt.ylabel('confidence')\n",
    "plt.show()"
   ]
  },
  {
   "cell_type": "code",
   "execution_count": null,
   "id": "f4f80d17",
   "metadata": {},
   "outputs": [],
   "source": [
    "x=[0.1035,0.152,0.43]\n",
    "y=[38,20,2]\n",
    "plt.scatter(x,y)\n",
    "plt.xlabel('Minimum Support')\n",
    "plt.ylabel('Frequent Itemsets')\n",
    "plt.title('Relation Between Min Support Value and Frequent Itemsets')"
   ]
  },
  {
   "cell_type": "markdown",
   "id": "c037b64b",
   "metadata": {},
   "source": [
    "#### b) with 7% support and 85% confidence:"
   ]
  },
  {
   "cell_type": "code",
   "execution_count": null,
   "id": "04858c51",
   "metadata": {},
   "outputs": [],
   "source": [
    "# Association rule with --> 7% support\n",
    "frequently_read = apriori(books, min_support = 0.07, use_colnames = True)\n",
    "frequently_read"
   ]
  },
  {
   "cell_type": "code",
   "execution_count": null,
   "id": "2d68bbbc",
   "metadata": {},
   "outputs": [],
   "source": [
    "# Association rule with --> 85% confidence\n",
    "rules2 =  association_rules(frequently_read, metric = \"lift\", min_threshold = 0.85)\n",
    "rules2"
   ]
  },
  {
   "cell_type": "code",
   "execution_count": null,
   "id": "2a00777d",
   "metadata": {},
   "outputs": [],
   "source": [
    "rules2.sort_values('lift',ascending = False) [0:20]"
   ]
  },
  {
   "cell_type": "code",
   "execution_count": null,
   "id": "a315761d",
   "metadata": {},
   "outputs": [],
   "source": [
    " # Lift ratio > 1 -->  good to select the movies \n",
    "rules2[rules2.lift>1]"
   ]
  },
  {
   "cell_type": "code",
   "execution_count": null,
   "id": "083d8200",
   "metadata": {},
   "outputs": [],
   "source": [
    "# visualization of obtained rule by bar plot\n",
    "rules2.plot(kind='bar',x='support',y='confidence',color='green')\n",
    "plt.xlabel('support')\n",
    "plt.ylabel('confidence')\n",
    "plt.title('barplot')"
   ]
  },
  {
   "cell_type": "code",
   "execution_count": null,
   "id": "df72ce63",
   "metadata": {},
   "outputs": [],
   "source": [
    "# Visualization of obtained rule2\n",
    "plt.scatter(rules2['support'],rules2['confidence'])\n",
    "plt.xlabel('support')\n",
    "plt.ylabel('confidence')\n",
    "plt.show()"
   ]
  },
  {
   "cell_type": "code",
   "execution_count": null,
   "id": "a8a223fc",
   "metadata": {},
   "outputs": [],
   "source": [
    "x=[0.08,0.2145,0.247]\n",
    "y=[65,4,1]\n",
    "plt.scatter(x,y)\n",
    "plt.xlabel('Minimum Support')\n",
    "plt.ylabel('Frequent Itemsets')\n",
    "plt.title('Relation Between Min Support Value and Frequent Itemsets')"
   ]
  },
  {
   "cell_type": "markdown",
   "id": "f80ab274",
   "metadata": {},
   "source": [
    "#### c) with 5% support and 90% confidence"
   ]
  },
  {
   "cell_type": "code",
   "execution_count": null,
   "id": "e1443ec7",
   "metadata": {},
   "outputs": [],
   "source": [
    "# Association rule with --> 5% support\n",
    "frequently_read = apriori(books, min_support = 0.05, use_colnames = True)\n",
    "frequently_read"
   ]
  },
  {
   "cell_type": "code",
   "execution_count": null,
   "id": "18758aac",
   "metadata": {},
   "outputs": [],
   "source": [
    "# Association rule with --> 85% confidence\n",
    "rules3 =  association_rules(frequently_read, metric = \"lift\", min_threshold = 0.85)\n",
    "rules3"
   ]
  },
  {
   "cell_type": "code",
   "execution_count": null,
   "id": "c15dd526",
   "metadata": {},
   "outputs": [],
   "source": [
    "rules3.sort_values('lift',ascending = False) [0:20]"
   ]
  },
  {
   "cell_type": "code",
   "execution_count": null,
   "id": "0368c78a",
   "metadata": {},
   "outputs": [],
   "source": [
    " # Lift ratio > 1 -->  good to select the movies \n",
    "rules3[rules3.lift>1]"
   ]
  },
  {
   "cell_type": "code",
   "execution_count": null,
   "id": "3bdb5613",
   "metadata": {},
   "outputs": [],
   "source": [
    "# visualization of obtained rule by bar plot\n",
    "rules3.plot(kind='bar',x='support',y='confidence',color='red')\n",
    "plt.xlabel('support')\n",
    "plt.ylabel('confidence')\n",
    "plt.title('barplot')"
   ]
  },
  {
   "cell_type": "code",
   "execution_count": null,
   "id": "e22e9ae3",
   "metadata": {},
   "outputs": [],
   "source": [
    "# Visualization of obtained rule3\n",
    "plt.scatter(rules3['support'],rules3['confidence'])\n",
    "plt.xlabel('support')\n",
    "plt.ylabel('confidence')\n",
    "plt.show()"
   ]
  },
  {
   "cell_type": "code",
   "execution_count": null,
   "id": "b6bbbe27",
   "metadata": {},
   "outputs": [],
   "source": [
    "x=[0.0535,0.2145,0.247]\n",
    "y=[99,4,1]\n",
    "plt.scatter(x,y)\n",
    "plt.xlabel('Minimum Support')\n",
    "plt.ylabel('Frequent Itemsets')\n",
    "plt.title('Relation Between Min Support Value and Frequent Itemsets')"
   ]
  },
  {
   "cell_type": "code",
   "execution_count": null,
   "id": "12b51608",
   "metadata": {},
   "outputs": [],
   "source": []
  }
 ],
 "metadata": {
  "kernelspec": {
   "display_name": "Python 3 (ipykernel)",
   "language": "python",
   "name": "python3"
  },
  "language_info": {
   "codemirror_mode": {
    "name": "ipython",
    "version": 3
   },
   "file_extension": ".py",
   "mimetype": "text/x-python",
   "name": "python",
   "nbconvert_exporter": "python",
   "pygments_lexer": "ipython3",
   "version": "3.9.7"
  }
 },
 "nbformat": 4,
 "nbformat_minor": 5
}
